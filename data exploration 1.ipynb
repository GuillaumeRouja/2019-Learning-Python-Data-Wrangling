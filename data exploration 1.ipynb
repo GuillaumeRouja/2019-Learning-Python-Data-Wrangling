{
 "cells": [
  {
   "cell_type": "markdown",
   "metadata": {},
   "source": [
    "## This notebook is about learning data analysis using Python ##\n",
    "### Focus is to explore the data in order to get some insight from them ###"
   ]
  },
  {
   "cell_type": "markdown",
   "metadata": {},
   "source": [
    "#### Step 1 : importing the data ####"
   ]
  },
  {
   "cell_type": "markdown",
   "metadata": {},
   "source": [
    "\n",
    "\n"
   ]
  },
  {
   "cell_type": "code",
   "execution_count": 1,
   "metadata": {},
   "outputs": [
    {
     "name": "stdout",
     "output_type": "stream",
     "text": [
      "   symboling  normalized-losses         make aspiration num-of-doors  \\\n",
      "0          3                122  alfa-romero        std          two   \n",
      "1          3                122  alfa-romero        std          two   \n",
      "2          1                122  alfa-romero        std          two   \n",
      "3          2                164         audi        std         four   \n",
      "4          2                164         audi        std         four   \n",
      "\n",
      "    body-style drive-wheels engine-location  wheel-base    length  ...  \\\n",
      "0  convertible          rwd           front        88.6  0.811148  ...   \n",
      "1  convertible          rwd           front        88.6  0.811148  ...   \n",
      "2    hatchback          rwd           front        94.5  0.822681  ...   \n",
      "3        sedan          fwd           front        99.8  0.848630  ...   \n",
      "4        sedan          4wd           front        99.4  0.848630  ...   \n",
      "\n",
      "   compression-ratio  horsepower  peak-rpm city-mpg highway-mpg    price  \\\n",
      "0                9.0       111.0    5000.0       21          27  13495.0   \n",
      "1                9.0       111.0    5000.0       21          27  16500.0   \n",
      "2                9.0       154.0    5000.0       19          26  16500.0   \n",
      "3               10.0       102.0    5500.0       24          30  13950.0   \n",
      "4                8.0       115.0    5500.0       18          22  17450.0   \n",
      "\n",
      "  city-L/100km  horsepower-binned  diesel  gas  \n",
      "0    11.190476             Medium       0    1  \n",
      "1    11.190476             Medium       0    1  \n",
      "2    12.368421             Medium       0    1  \n",
      "3     9.791667             Medium       0    1  \n",
      "4    13.055556             Medium       0    1  \n",
      "\n",
      "[5 rows x 29 columns]\n",
      "symboling              int64\n",
      "normalized-losses      int64\n",
      "make                  object\n",
      "aspiration            object\n",
      "num-of-doors          object\n",
      "body-style            object\n",
      "drive-wheels          object\n",
      "engine-location       object\n",
      "wheel-base           float64\n",
      "length               float64\n",
      "width                float64\n",
      "height               float64\n",
      "curb-weight            int64\n",
      "engine-type           object\n",
      "num-of-cylinders      object\n",
      "engine-size            int64\n",
      "fuel-system           object\n",
      "bore                 float64\n",
      "stroke               float64\n",
      "compression-ratio    float64\n",
      "horsepower           float64\n",
      "peak-rpm             float64\n",
      "city-mpg               int64\n",
      "highway-mpg            int64\n",
      "price                float64\n",
      "city-L/100km         float64\n",
      "horsepower-binned     object\n",
      "diesel                 int64\n",
      "gas                    int64\n",
      "dtype: object\n"
     ]
    }
   ],
   "source": [
    "import pandas as pd\n",
    "import numpy as np\n",
    "import matplotlib\n",
    "import matplotlib.pyplot as plt # Data visualization library\n",
    "import seaborn as sns #Data visualization library based on matplotlib\n",
    "# matplotib inline is a \"magic\" function to include graphs in a notebook\n",
    "%matplotlib inline  \n",
    "\n",
    "path='https://s3-api.us-geo.objectstorage.softlayer.net/cf-courses-data/CognitiveClass/DA0101EN/automobileEDA.csv'\n",
    "df = pd.read_csv(path)\n",
    "print (df.head())\n",
    "\n",
    "# list the data types for each column\n",
    "print(df.dtypes)\n"
   ]
  },
  {
   "cell_type": "markdown",
   "metadata": {},
   "source": [
    "#### Step 2 : Correlation between variables ####"
   ]
  },
  {
   "cell_type": "code",
   "execution_count": 4,
   "metadata": {},
   "outputs": [
    {
     "name": "stdout",
     "output_type": "stream",
     "text": [
      "                   symboling  normalized-losses  wheel-base    length  \\\n",
      "symboling           1.000000           0.466264   -0.535987 -0.365404   \n",
      "normalized-losses   0.466264           1.000000   -0.056661  0.019424   \n",
      "wheel-base         -0.535987          -0.056661    1.000000  0.876024   \n",
      "length             -0.365404           0.019424    0.876024  1.000000   \n",
      "width              -0.242423           0.086802    0.814507  0.857170   \n",
      "height             -0.550160          -0.373737    0.590742  0.492063   \n",
      "curb-weight        -0.233118           0.099404    0.782097  0.880665   \n",
      "engine-size        -0.110581           0.112360    0.572027  0.685025   \n",
      "bore               -0.140019          -0.029862    0.493244  0.608971   \n",
      "stroke             -0.008245           0.055563    0.158502  0.124139   \n",
      "compression-ratio  -0.182196          -0.114713    0.250313  0.159733   \n",
      "horsepower          0.075819           0.217299    0.371147  0.579821   \n",
      "peak-rpm            0.279740           0.239543   -0.360305 -0.285970   \n",
      "city-mpg           -0.035527          -0.225016   -0.470606 -0.665192   \n",
      "highway-mpg         0.036233          -0.181877   -0.543304 -0.698142   \n",
      "price              -0.082391           0.133999    0.584642  0.690628   \n",
      "city-L/100km        0.066171           0.238567    0.476153  0.657373   \n",
      "diesel             -0.196735          -0.101546    0.307237  0.211187   \n",
      "gas                 0.196735           0.101546   -0.307237 -0.211187   \n",
      "\n",
      "                      width    height  curb-weight  engine-size      bore  \\\n",
      "symboling         -0.242423 -0.550160    -0.233118    -0.110581 -0.140019   \n",
      "normalized-losses  0.086802 -0.373737     0.099404     0.112360 -0.029862   \n",
      "wheel-base         0.814507  0.590742     0.782097     0.572027  0.493244   \n",
      "length             0.857170  0.492063     0.880665     0.685025  0.608971   \n",
      "width              1.000000  0.306002     0.866201     0.729436  0.544885   \n",
      "height             0.306002  1.000000     0.307581     0.074694  0.180449   \n",
      "curb-weight        0.866201  0.307581     1.000000     0.849072  0.644060   \n",
      "engine-size        0.729436  0.074694     0.849072     1.000000  0.572609   \n",
      "bore               0.544885  0.180449     0.644060     0.572609  1.000000   \n",
      "stroke             0.188829 -0.062704     0.167562     0.209523 -0.055390   \n",
      "compression-ratio  0.189867  0.259737     0.156433     0.028889  0.001263   \n",
      "horsepower         0.615077 -0.087027     0.757976     0.822676  0.566936   \n",
      "peak-rpm          -0.245800 -0.309974    -0.279361    -0.256733 -0.267392   \n",
      "city-mpg          -0.633531 -0.049800    -0.749543    -0.650546 -0.582027   \n",
      "highway-mpg       -0.680635 -0.104812    -0.794889    -0.679571 -0.591309   \n",
      "price              0.751265  0.135486     0.834415     0.872335  0.543155   \n",
      "city-L/100km       0.673363  0.003811     0.785353     0.745059  0.554610   \n",
      "diesel             0.244356  0.281578     0.221046     0.070779  0.054458   \n",
      "gas               -0.244356 -0.281578    -0.221046    -0.070779 -0.054458   \n",
      "\n",
      "                     stroke  compression-ratio  horsepower  peak-rpm  \\\n",
      "symboling         -0.008245          -0.182196    0.075819  0.279740   \n",
      "normalized-losses  0.055563          -0.114713    0.217299  0.239543   \n",
      "wheel-base         0.158502           0.250313    0.371147 -0.360305   \n",
      "length             0.124139           0.159733    0.579821 -0.285970   \n",
      "width              0.188829           0.189867    0.615077 -0.245800   \n",
      "height            -0.062704           0.259737   -0.087027 -0.309974   \n",
      "curb-weight        0.167562           0.156433    0.757976 -0.279361   \n",
      "engine-size        0.209523           0.028889    0.822676 -0.256733   \n",
      "bore              -0.055390           0.001263    0.566936 -0.267392   \n",
      "stroke             1.000000           0.187923    0.098462 -0.065713   \n",
      "compression-ratio  0.187923           1.000000   -0.214514 -0.435780   \n",
      "horsepower         0.098462          -0.214514    1.000000  0.107885   \n",
      "peak-rpm          -0.065713          -0.435780    0.107885  1.000000   \n",
      "city-mpg          -0.034696           0.331425   -0.822214 -0.115413   \n",
      "highway-mpg       -0.035201           0.268465   -0.804575 -0.058598   \n",
      "price              0.082310           0.071107    0.809575 -0.101616   \n",
      "city-L/100km       0.037300          -0.299372    0.889488  0.115830   \n",
      "diesel             0.241303           0.985231   -0.169053 -0.475812   \n",
      "gas               -0.241303          -0.985231    0.169053  0.475812   \n",
      "\n",
      "                   city-mpg  highway-mpg     price  city-L/100km    diesel  \\\n",
      "symboling         -0.035527     0.036233 -0.082391      0.066171 -0.196735   \n",
      "normalized-losses -0.225016    -0.181877  0.133999      0.238567 -0.101546   \n",
      "wheel-base        -0.470606    -0.543304  0.584642      0.476153  0.307237   \n",
      "length            -0.665192    -0.698142  0.690628      0.657373  0.211187   \n",
      "width             -0.633531    -0.680635  0.751265      0.673363  0.244356   \n",
      "height            -0.049800    -0.104812  0.135486      0.003811  0.281578   \n",
      "curb-weight       -0.749543    -0.794889  0.834415      0.785353  0.221046   \n",
      "engine-size       -0.650546    -0.679571  0.872335      0.745059  0.070779   \n",
      "bore              -0.582027    -0.591309  0.543155      0.554610  0.054458   \n",
      "stroke            -0.034696    -0.035201  0.082310      0.037300  0.241303   \n",
      "compression-ratio  0.331425     0.268465  0.071107     -0.299372  0.985231   \n",
      "horsepower        -0.822214    -0.804575  0.809575      0.889488 -0.169053   \n",
      "peak-rpm          -0.115413    -0.058598 -0.101616      0.115830 -0.475812   \n",
      "city-mpg           1.000000     0.972044 -0.686571     -0.949713  0.265676   \n",
      "highway-mpg        0.972044     1.000000 -0.704692     -0.930028  0.198690   \n",
      "price             -0.686571    -0.704692  1.000000      0.789898  0.110326   \n",
      "city-L/100km      -0.949713    -0.930028  0.789898      1.000000 -0.241282   \n",
      "diesel             0.265676     0.198690  0.110326     -0.241282  1.000000   \n",
      "gas               -0.265676    -0.198690 -0.110326      0.241282 -1.000000   \n",
      "\n",
      "                        gas  \n",
      "symboling          0.196735  \n",
      "normalized-losses  0.101546  \n",
      "wheel-base        -0.307237  \n",
      "length            -0.211187  \n",
      "width             -0.244356  \n",
      "height            -0.281578  \n",
      "curb-weight       -0.221046  \n",
      "engine-size       -0.070779  \n",
      "bore              -0.054458  \n",
      "stroke            -0.241303  \n",
      "compression-ratio -0.985231  \n",
      "horsepower         0.169053  \n",
      "peak-rpm           0.475812  \n",
      "city-mpg          -0.265676  \n",
      "highway-mpg       -0.198690  \n",
      "price             -0.110326  \n",
      "city-L/100km       0.241282  \n",
      "diesel            -1.000000  \n",
      "gas                1.000000  \n",
      "                       bore    stroke  compression-ratio  horsepower\n",
      "bore               1.000000 -0.055390           0.001263    0.566936\n",
      "stroke            -0.055390  1.000000           0.187923    0.098462\n",
      "compression-ratio  0.001263  0.187923           1.000000   -0.214514\n",
      "horsepower         0.566936  0.098462          -0.214514    1.000000\n"
     ]
    }
   ],
   "source": [
    "print (df.corr()) # Display the correlation between all variables\n",
    "\n",
    "# Let's more specifically print the correlation between the following variables:\n",
    "print(df[['bore', 'stroke', 'compression-ratio', 'horsepower']].corr())"
   ]
  },
  {
   "cell_type": "markdown",
   "metadata": {},
   "source": [
    "a/ Positive linear relationship"
   ]
  },
  {
   "cell_type": "markdown",
   "metadata": {},
   "source": [
    "Continuous numerical variables are variables that may contain any value within some range. Continuous numerical variables can have the type \"int64\" or \"float64\". A great way to visualize these variables is by using scatterplots with fitted lines."
   ]
  },
  {
   "cell_type": "code",
   "execution_count": 5,
   "metadata": {},
   "outputs": [
    {
     "data": {
      "text/plain": [
       "(0, 55762.205739521276)"
      ]
     },
     "execution_count": 5,
     "metadata": {},
     "output_type": "execute_result"
    },
    {
     "data": {
      "image/png": "[encoded data removed]",
      "text/plain": [
       "<Figure size 432x288 with 1 Axes>"
      ]
     },
     "metadata": {
      "needs_background": "light"
     },
     "output_type": "display_data"
    }
   ],
   "source": [
    "# As an example, let's find the scatterplot of \"engine-size\" and \"price\"\n",
    "# We can analyse \"engine-size\" as a potential predictor for the price.\n",
    "# For that purpose we can use the function regplot from seaborn library\n",
    "\n",
    "sns.regplot(x=\"engine-size\", y=\"price\", data=df)\n",
    "plt.ylim(0,)"
   ]
  },
  {
   "cell_type": "markdown",
   "metadata": {},
   "source": [
    "As the engine-size goes up, the price goes up: this indicates a positive direct correlation between these two variables. Engine size seems like a pretty good predictor of price since the regression line is almost a perfect diagonal line."
   ]
  },
  {
   "cell_type": "code",
   "execution_count": 6,
   "metadata": {},
   "outputs": [
    {
     "data": {
      "text/html": [
       "<div>\n",
       "<style scoped>\n",
       "    .dataframe tbody tr th:only-of-type {\n",
       "        vertical-align: middle;\n",
       "    }\n",
       "\n",
       "    .dataframe tbody tr th {\n",
       "        vertical-align: top;\n",
       "    }\n",
       "\n",
       "    .dataframe thead th {\n",
       "        text-align: right;\n",
       "    }\n",
       "</style>\n",
       "<table border=\"1\" class=\"dataframe\">\n",
       "  <thead>\n",
       "    <tr style=\"text-align: right;\">\n",
       "      <th></th>\n",
       "      <th>engine-size</th>\n",
       "      <th>price</th>\n",
       "    </tr>\n",
       "  </thead>\n",
       "  <tbody>\n",
       "    <tr>\n",
       "      <th>engine-size</th>\n",
       "      <td>1.000000</td>\n",
       "      <td>0.872335</td>\n",
       "    </tr>\n",
       "    <tr>\n",
       "      <th>price</th>\n",
       "      <td>0.872335</td>\n",
       "      <td>1.000000</td>\n",
       "    </tr>\n",
       "  </tbody>\n",
       "</table>\n",
       "</div>"
      ],
      "text/plain": [
       "             engine-size     price\n",
       "engine-size     1.000000  0.872335\n",
       "price           0.872335  1.000000"
      ]
     },
     "execution_count": 6,
     "metadata": {},
     "output_type": "execute_result"
    }
   ],
   "source": [
    "# We can verify the above deduction by calculation the correlation between those 2 variables:\n",
    "\n",
    "df[[\"engine-size\", \"price\"]].corr()"
   ]
  },
  {
   "cell_type": "markdown",
   "metadata": {},
   "source": [
    "It appears the correlation is at a high level of 0.87 (close to 1) "
   ]
  },
  {
   "cell_type": "code",
   "execution_count": 8,
   "metadata": {},
   "outputs": [
    {
     "name": "stdout",
     "output_type": "stream",
     "text": [
      "             highway-mpg     price\n",
      "highway-mpg     1.000000 -0.704692\n",
      "price          -0.704692  1.000000\n"
     ]
    },
    {
     "data": {
      "image/png": "[encoded data removed]",
      "text/plain": [
       "<Figure size 432x288 with 1 Axes>"
      ]
     },
     "metadata": {
      "needs_background": "light"
     },
     "output_type": "display_data"
    }
   ],
   "source": [
    "# Let's now find out whether \"highway-mpg\" also has an impact on the price:\n",
    "\n",
    "sns.regplot(x=\"highway-mpg\", y=\"price\", data=df)\n",
    "print (df[['highway-mpg', 'price']].corr())"
   ]
  },
  {
   "cell_type": "markdown",
   "metadata": {},
   "source": [
    "It does indeed have a linear negative relationship with the price, correlation isn't as strong as the engine-size though (-0.7) "
   ]
  },
  {
   "cell_type": "code",
   "execution_count": 9,
   "metadata": {},
   "outputs": [
    {
     "name": "stdout",
     "output_type": "stream",
     "text": [
      "          peak-rpm     price\n",
      "peak-rpm  1.000000 -0.101616\n",
      "price    -0.101616  1.000000\n"
     ]
    },
    {
     "data": {
      "image/png": "[encoded data removed]",
      "text/plain": [
       "<Figure size 432x288 with 1 Axes>"
      ]
     },
     "metadata": {
      "needs_background": "light"
     },
     "output_type": "display_data"
    }
   ],
   "source": [
    "# Let's now take a 3rd and last example and study the correclation between peak-rpm and price:\n",
    "\n",
    "sns.regplot(x=\"peak-rpm\", y=\"price\", data=df)\n",
    "print (df[['peak-rpm','price']].corr())"
   ]
  },
  {
   "cell_type": "markdown",
   "metadata": {},
   "source": [
    "In that case we see the negative correlation between the 2 variables is very weak(-0.1). Visually, we see the dots are scattered."
   ]
  },
  {
   "cell_type": "code",
   "execution_count": null,
   "metadata": {},
   "outputs": [],
   "source": []
  }
 ],
 "metadata": {
  "kernelspec": {
   "display_name": "Python 3",
   "language": "python",
   "name": "python3"
  },
  "language_info": {
   "codemirror_mode": {
    "name": "ipython",
    "version": 3
   },
   "file_extension": ".py",
   "mimetype": "text/x-python",
   "name": "python",
   "nbconvert_exporter": "python",
   "pygments_lexer": "ipython3",
   "version": "3.7.3"
  }
 },
 "nbformat": 4,
 "nbformat_minor": 2
}
